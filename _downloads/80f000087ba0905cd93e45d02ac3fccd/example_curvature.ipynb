{
  "cells": [
    {
      "cell_type": "markdown",
      "metadata": {},
      "source": [
        "\n\n# example of curvature estimation in slam\n"
      ]
    },
    {
      "cell_type": "code",
      "execution_count": null,
      "metadata": {
        "collapsed": false
      },
      "outputs": [],
      "source": [
        "# Authors: Guillaume Auzias <guillaume.auzias@univ-amu.fr>\n#          Julien Barr\u00e8s <julien.barres@etu.univ-amu.fr>\n\n# License: MIT\n# sphinx_gallery_thumbnail_number = 2"
      ]
    },
    {
      "cell_type": "markdown",
      "metadata": {},
      "source": [
        "NOTE: there is no visualization tool in slam, but we provide at the\n end of this script exemplare code to do the visualization with\n an external solution\n##############################################################################\n\n"
      ]
    },
    {
      "cell_type": "code",
      "execution_count": null,
      "metadata": {
        "collapsed": false
      },
      "outputs": [],
      "source": [
        "# importation of slam modules\nimport slam.utils as ut\nimport numpy as np\nimport slam.generate_parametric_surfaces as sgps\nimport slam.io as sio\nimport slam.curvature as scurv"
      ]
    },
    {
      "cell_type": "markdown",
      "metadata": {},
      "source": [
        "loading an examplar mesh\n\n"
      ]
    },
    {
      "cell_type": "code",
      "execution_count": null,
      "metadata": {
        "collapsed": false
      },
      "outputs": [],
      "source": [
        "mesh_file = \"../examples/data/example_mesh.gii\"\nmesh = sio.load_mesh(mesh_file)"
      ]
    },
    {
      "cell_type": "markdown",
      "metadata": {},
      "source": [
        "Comptue estimations of principal curvatures\n\n"
      ]
    },
    {
      "cell_type": "code",
      "execution_count": null,
      "metadata": {
        "collapsed": false
      },
      "outputs": [],
      "source": [
        "PrincipalCurvatures, PrincipalDir1, PrincipalDir2 \\\n    = scurv.curvatures_and_derivatives(mesh)"
      ]
    },
    {
      "cell_type": "markdown",
      "metadata": {},
      "source": [
        "Comptue Gauss curvature from principal curvatures\n\n"
      ]
    },
    {
      "cell_type": "code",
      "execution_count": null,
      "metadata": {
        "collapsed": false
      },
      "outputs": [],
      "source": [
        "gaussian_curv = PrincipalCurvatures[0, :] * PrincipalCurvatures[1, :]"
      ]
    },
    {
      "cell_type": "markdown",
      "metadata": {},
      "source": [
        "Comptue mean curvature from principal curvatures\n\n"
      ]
    },
    {
      "cell_type": "code",
      "execution_count": null,
      "metadata": {
        "collapsed": false
      },
      "outputs": [],
      "source": [
        "mean_curv = 0.5 * (PrincipalCurvatures[0, :] + PrincipalCurvatures[1, :])"
      ]
    },
    {
      "cell_type": "markdown",
      "metadata": {},
      "source": [
        "Decomposition of the curvatures into ShapeIndex and Curvedness\nBased on 'Surface shape and curvature scales\n          Jan JKoenderink & Andrea Jvan Doorn'\n\n"
      ]
    },
    {
      "cell_type": "code",
      "execution_count": null,
      "metadata": {
        "collapsed": false
      },
      "outputs": [],
      "source": [
        "shapeIndex, curvedness = scurv.decompose_curvature(PrincipalCurvatures)"
      ]
    },
    {
      "cell_type": "markdown",
      "metadata": {},
      "source": [
        "Estimation error on the principal curvature length\n\n"
      ]
    },
    {
      "cell_type": "code",
      "execution_count": null,
      "metadata": {
        "collapsed": false
      },
      "outputs": [],
      "source": [
        "K = [1, 0]\n\nquadric = sgps.generate_quadric(\n    K,\n    nstep=[20, 20],\n    ax=3,\n    ay=3,\n    random_sampling=False,\n    ratio=0.3,\n    random_distribution_type=\"gamma\",\n    equilateral=True,\n)"
      ]
    },
    {
      "cell_type": "markdown",
      "metadata": {},
      "source": [
        "Estimated computation of the Principal curvature, K_gauss, K_mean\n\n"
      ]
    },
    {
      "cell_type": "code",
      "execution_count": null,
      "metadata": {
        "collapsed": false
      },
      "outputs": [],
      "source": [
        "p_curv, d1_estim, d2_estim = scurv.curvatures_and_derivatives(quadric)\n\nk1_estim, k2_estim = p_curv[0, :], p_curv[1, :]\n\nk_gauss_estim = k1_estim * k2_estim\n\nk_mean_estim = 0.5 * (k1_estim + k2_estim)"
      ]
    },
    {
      "cell_type": "markdown",
      "metadata": {},
      "source": [
        "Analytical computation of the curvatures\n\n"
      ]
    },
    {
      "cell_type": "code",
      "execution_count": null,
      "metadata": {
        "collapsed": false
      },
      "outputs": [],
      "source": [
        "k_mean_analytic = sgps.quadric_curv_mean(K)(\n    np.array(quadric.vertices[:, 0]), np.array(quadric.vertices[:, 1])\n)\n\nk_gauss_analytic = sgps.quadric_curv_gauss(K)(\n    np.array(quadric.vertices[:, 0]), np.array(quadric.vertices[:, 1])\n)\n\nk1_analytic = np.zeros((len(k_mean_analytic)))\nk2_analytic = np.zeros((len(k_mean_analytic)))\n\nfor i in range(len(k_mean_analytic)):\n    a, b = np.roots((1, -2 * k_mean_analytic[i], k_gauss_analytic[i]))\n    k1_analytic[i] = min(a, b)\n    k2_analytic[i] = max(a, b)"
      ]
    },
    {
      "cell_type": "markdown",
      "metadata": {},
      "source": [
        "Error computation\n\n"
      ]
    },
    {
      "cell_type": "code",
      "execution_count": null,
      "metadata": {
        "collapsed": false
      },
      "outputs": [],
      "source": [
        "k_mean_relative_change = abs(\n    (k_mean_analytic - k_mean_estim) / k_mean_analytic)\nk_mean_absolute_change = abs((k_mean_analytic - k_mean_estim))\n\nk1_relative_change = abs((k1_analytic - k1_estim) / k1_analytic)\nk1_absolute_change = abs((k1_analytic - k1_estim))"
      ]
    },
    {
      "cell_type": "markdown",
      "metadata": {},
      "source": [
        "Estimation error on the curvature directions\ncommented because there is a bug:\nValueError: shapes (3,2) and (3,2) not aligned: 2 (dim 1) != 3 (dim 0)\nactually, vec1.shape=(3,) while vec2.shape=(3,2)\n\n"
      ]
    },
    {
      "cell_type": "code",
      "execution_count": null,
      "metadata": {
        "collapsed": false
      },
      "outputs": [],
      "source": [
        "K = [1, 0]\n\nquadric = sgps.generate_quadric(\n    K,\n    nstep=[20, 20],\n    ax=3,\n    ay=3,\n    random_sampling=False,\n    ratio=0.3,\n    random_distribution_type=\"gamma\",\n    equilateral=True,\n)"
      ]
    },
    {
      "cell_type": "markdown",
      "metadata": {},
      "source": [
        "Estimated computation of the Principal curvature, Direction1, Direction2\n\n"
      ]
    },
    {
      "cell_type": "code",
      "execution_count": null,
      "metadata": {
        "collapsed": false
      },
      "outputs": [],
      "source": [
        "p_curv_estim, d1_estim, d2_estim = scurv.curvatures_and_derivatives(quadric)"
      ]
    },
    {
      "cell_type": "markdown",
      "metadata": {},
      "source": [
        "Analytical computation of the directions\n\n"
      ]
    },
    {
      "cell_type": "code",
      "execution_count": null,
      "metadata": {
        "collapsed": false
      },
      "outputs": [],
      "source": [
        "analytical_directions = sgps.compute_all_principal_directions_3D(\n    K, quadric.vertices)\n\nestimated_directions = np.zeros(analytical_directions.shape)\nestimated_directions[:, :, 0] = d1_estim\nestimated_directions[:, :, 1] = d2_estim\n\nangular_error_0, dotprods = ut.compare_analytic_estimated_directions(\n    analytical_directions[:, :, 0], estimated_directions[:, :, 0]\n)\nangular_error_0 = 180 * angular_error_0 / np.pi\n\nangular_error_1, dotprods = ut.compare_analytic_estimated_directions(\n    analytical_directions[:, :, 1], estimated_directions[:, :, 1]\n)\nangular_error_1 = 180 * angular_error_1 / np.pi"
      ]
    },
    {
      "cell_type": "markdown",
      "metadata": {},
      "source": [
        "## VISUALIZATION USING EXTERNAL TOOLS\n import visbrain # visu using visbrain\n Plot mean curvature\n visb_sc = splt.visbrain_plot(\n     mesh=mesh,\n     tex=mean_curv,\n     caption=\"mean curvature\",\n     cblabel=\"mean curvature\"\n )\n visb_sc.preview()\n############################################################################\n # Plot Gauss curvature\n visb_sc = splt.visbrain_plot(\n     mesh=mesh,\n     tex=gaussian_curv,\n     caption=\"Gaussian curvature\",\n     cblabel=\"Gaussian curvature\",\n     cmap=\"hot\",\n )\n visb_sc.preview()\n##############################################################################\n Plot of ShapeIndex and Curvedness\n visb_sc = splt.visbrain_plot(\n     mesh=mesh,\n     tex=shapeIndex,\n     caption=\"ShapeIndex\",\n     cblabel=\"ShapeIndex\",\n     cmap=\"coolwarm\",\n )\n visb_sc.preview()\n\n visb_sc = splt.visbrain_plot(\n     mesh=mesh,\n     tex=curvedness,\n     caption=\"Curvedness\",\n     cblabel=\"Curvedness\",\n     cmap=\"hot\"\n )\n visb_sc.preview()\n##############################################################################\n Error plot\n visb_sc = splt.visbrain_plot(\n     mesh=quadric,\n     tex=k_mean_absolute_change,\n     caption=\"K_mean absolute error\",\n     cblabel=\"K_mean absolute error\",\n )\n visb_sc.preview()\n ###############################################################################\n # Error plot\n visb_sc = splt.visbrain_plot(\n     mesh=quadric,\n     tex=angular_error_0,\n     caption=\"Angular error 0\",\n     cblabel=\"Angular error 0\",\n )\n visb_sc.preview()\n\n visb_sc = splt.visbrain_plot(\n     mesh=quadric,\n     tex=angular_error_1,\n     caption=\"Angular error 1\",\n     cblabel=\"Angular error 1\",\n )\n visb_sc.preview()\n\n"
      ]
    }
  ],
  "metadata": {
    "kernelspec": {
      "display_name": "Python 3",
      "language": "python",
      "name": "python3"
    },
    "language_info": {
      "codemirror_mode": {
        "name": "ipython",
        "version": 3
      },
      "file_extension": ".py",
      "mimetype": "text/x-python",
      "name": "python",
      "nbconvert_exporter": "python",
      "pygments_lexer": "ipython3",
      "version": "3.12.11"
    }
  },
  "nbformat": 4,
  "nbformat_minor": 0
}