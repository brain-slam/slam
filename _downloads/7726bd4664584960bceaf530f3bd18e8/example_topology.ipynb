{
  "cells": [
    {
      "cell_type": "markdown",
      "metadata": {},
      "source": [
        "\n\n# Show topology manipulation tools in slam\n"
      ]
    },
    {
      "cell_type": "code",
      "execution_count": null,
      "metadata": {
        "collapsed": false
      },
      "outputs": [],
      "source": [
        "# Authors: Guillaume Auzias <guillaume.auzias@univ-amu.fr>\n\n# License: MIT\n# sphinx_gallery_thumbnail_number = 2"
      ]
    },
    {
      "cell_type": "markdown",
      "metadata": {},
      "source": [
        "NOTE: there is no visualization tool in slam, but we provide at the\n end of this script exemplare code to do the visualization with\n an external solution\n##############################################################################\n\n"
      ]
    },
    {
      "cell_type": "markdown",
      "metadata": {},
      "source": [
        "importation of slam modules\n\n"
      ]
    },
    {
      "cell_type": "code",
      "execution_count": null,
      "metadata": {
        "collapsed": false
      },
      "outputs": [],
      "source": [
        "import slam.io as sio\nimport slam.topology as stop\nimport slam.generate_parametric_surfaces as sps\nimport numpy as np"
      ]
    },
    {
      "cell_type": "markdown",
      "metadata": {},
      "source": [
        "here is how to get the vertices that define the boundary of an open mesh\n\n"
      ]
    },
    {
      "cell_type": "code",
      "execution_count": null,
      "metadata": {
        "collapsed": false
      },
      "outputs": [],
      "source": [
        "K = [-1, -1]\nopen_mesh = sps.generate_quadric(K, nstep=[5, 5])"
      ]
    },
    {
      "cell_type": "markdown",
      "metadata": {},
      "source": [
        "Identify the vertices lying on the boundary of the mesh and order\nthem to get a path traveling across boundary vertices\nThe output is a list of potentially more than one boudaries\ndepending on the topology of the input mesh.\nHere the mesh has a single boundary\n\n"
      ]
    },
    {
      "cell_type": "code",
      "execution_count": null,
      "metadata": {
        "collapsed": false
      },
      "outputs": [],
      "source": [
        "open_mesh_boundary = stop.mesh_boundary(open_mesh)\nprint(open_mesh_boundary)"
      ]
    },
    {
      "cell_type": "markdown",
      "metadata": {},
      "source": [
        "erode the mesh by removing the faces having 3 vertices on the boundary\n\n"
      ]
    },
    {
      "cell_type": "code",
      "execution_count": null,
      "metadata": {
        "collapsed": false
      },
      "outputs": [],
      "source": [
        "eroded_mesh = stop.remove_mesh_boundary_faces(open_mesh, face_vertex_number=1)"
      ]
    },
    {
      "cell_type": "markdown",
      "metadata": {},
      "source": [
        "here is how to get the vertices that define the boundary of\na texture on a mesh\nLet us first load example data\n\n"
      ]
    },
    {
      "cell_type": "code",
      "execution_count": null,
      "metadata": {
        "collapsed": false
      },
      "outputs": [],
      "source": [
        "mesh = sio.load_mesh(\"../examples/data/example_mesh.gii\")\n# rotate the mesh for better visualization\ntransfo_flip = np.array(\n    [[-1, 0, 0, 0], [0, 1, 0, 0], [0, 0, -1, 0], [0, 0, 0, 1]])\nmesh.apply_transform(transfo_flip)\n\n# Load the example texture and compute its boundary\ntex_parcel = sio.load_texture(\"../examples/data/example_texture_parcel.gii\")\ntexture_bound = stop.texture_boundary(mesh, tex_parcel.darray[0], 20)"
      ]
    },
    {
      "cell_type": "markdown",
      "metadata": {},
      "source": [
        "================= cut_mesh =================\nCut he mesh into subparts corresponding to the different values in\nthe texture tex_parcel\n\n"
      ]
    },
    {
      "cell_type": "code",
      "execution_count": null,
      "metadata": {
        "collapsed": false
      },
      "outputs": [],
      "source": [
        "parc_u = np.unique(tex_parcel.darray[0])\nprint(\n    \"Here the texture contains {0} different values: {1}\" \"\".format(\n        len(parc_u), parc_u)\n)"
      ]
    },
    {
      "cell_type": "markdown",
      "metadata": {},
      "source": [
        "Let us cut the mesh\n\n"
      ]
    },
    {
      "cell_type": "code",
      "execution_count": null,
      "metadata": {
        "collapsed": false
      },
      "outputs": [],
      "source": [
        "sub_meshes, sub_tex, sub_corresp = stop.cut_mesh(mesh, tex_parcel.darray[0])\n# The output submeshes are ordered following texture values\n# The second output of cut_mesh gives the texture value corresponding to\n# each submesh\nprint(\n    \"Corresponding texture values are given by\" \" the second ouput: {}\".format(\n        sub_tex)\n)\n\n# The respective indices of the vertices of each submesh in the original\n# mesh before the cut is given by the third output:\nprint(sub_corresp)"
      ]
    },
    {
      "cell_type": "markdown",
      "metadata": {},
      "source": [
        "================= close_mesh =================\nclose the largest submesh\n\n"
      ]
    },
    {
      "cell_type": "code",
      "execution_count": null,
      "metadata": {
        "collapsed": false
      },
      "outputs": [],
      "source": [
        "cuted_mesh = sub_meshes[-1]\nmesh_closed, nb_verts_added = stop.close_mesh(cuted_mesh)\n\n# The closed mesh is watertight while before closing if was not\nprint(mesh.is_watertight)\nprint(mesh_closed.is_watertight)"
      ]
    },
    {
      "cell_type": "markdown",
      "metadata": {},
      "source": [
        "## VISUALIZATION USING EXTERNAL TOOLS\n import slam.plot as splt\n from vispy.scene import Line\n from visbrain.objects import VispyObj, SourceObj\n\n ###############################################################################\n # show the result\n # WARNING : BrainObj should be added first before\n visb_sc = splt.visbrain_plot(mesh=open_mesh, caption=\"open mesh\")\n # create points with vispy\n for bound in open_mesh_boundary:\n     points = open_mesh.vertices[bound]\n     s_rad = SourceObj(\n         \"rad\",\n         points,\n         color=\"red\",\n         symbol=\"square\",\n         radius_min=10)\n     visb_sc.add_to_subplot(s_rad)\n     lines = Line(pos=open_mesh.vertices[bound], width=10, color=\"b\")\n     # wrap the vispy object using visbrain\n     l_obj = VispyObj(\"line\", lines)\n     visb_sc.add_to_subplot(l_obj)\n visb_sc.preview()\n\n ###############################################################################\n # show the result\n visb_sc2 = splt.visbrain_plot(mesh=eroded_mesh, caption=\"eroded mesh\")\n # show again the boundary of original mesh which have been removed with\n # corresponding faces by the erosion\n for bound in open_mesh_boundary:\n     points = open_mesh.vertices[bound]\n     s_rad = SourceObj(\n         \"rad\",\n         points,\n         color=\"red\",\n         symbol=\"square\",\n         radius_min=10)\n     visb_sc2.add_to_subplot(s_rad)\n     lines = Line(pos=open_mesh.vertices[bound], width=10, color=\"b\")\n     # wrap the vispy object using visbrain\n     l_obj = VispyObj(\"line\", lines)\n     visb_sc2.add_to_subplot(l_obj)\n visb_sc2.preview()\n\n ###############################################################################\n # show the results\n visb_sc3 = splt.visbrain_plot(\n     mesh=mesh, tex=tex_parcel.darray[0], caption=\"texture boundary\"\n )\n cols = [\"red\", \"green\", \"yellow\", \"blue\"]\n ind = 0\n for bound in texture_bound:\n     points = mesh.vertices[bound]\n     s_rad = SourceObj(\n         \"rad\",\n         points,\n         color=\"red\",\n         symbol=\"square\",\n         radius_min=10)\n     visb_sc3.add_to_subplot(s_rad)\n     lines = Line(pos=mesh.vertices[bound], width=10, color=cols[ind])\n     # wrap the vispy object using visbrain\n     l_obj = VispyObj(\"line\", lines)\n     visb_sc3.add_to_subplot(l_obj)\n     ind += 1\n     if ind == len(cols):\n         ind = 0\n visb_sc3.preview()\n\n ###############################################################################\n # show the mesh with the cuted subparts in different colors\n scene_list = list()\n cuted_mesh = sub_meshes[-1]\n joint_mesh = sub_meshes[0]\n joint_tex = np.zeros((sub_meshes[0].vertices.shape[0],))\n last_ind = sub_meshes[0].vertices.shape[0]\n for ind, sub_mesh in enumerate(sub_meshes[1:]):\n     sub_tex = np.ones((sub_mesh.vertices.shape[0],)) * (ind + 1)\n     joint_mesh += sub_mesh\n     joint_tex = np.hstack((joint_tex, sub_tex))\n visb_sc3 = splt.visbrain_plot(\n     mesh=joint_mesh,\n     tex=joint_tex,\n     caption=\"mesh parts shown in different colors\"\n )\n ind = 0\n boundaries = stop.mesh_boundary(cuted_mesh)\n for bound in boundaries:\n     s_rad = SourceObj(\n         \"rad\",\n         cuted_mesh.vertices[bound],\n         color=cols[ind],\n         symbol=\"square\",\n         radius_min=10,\n     )\n     visb_sc3.add_to_subplot(s_rad)\n     lines = Line(pos=cuted_mesh.vertices[bound], color=cols[ind], width=10)\n     # wrap the vispy object using visbrain\n     l_obj = VispyObj(\"line\", lines)\n     visb_sc3.add_to_subplot(l_obj)\n     ind += 1\n     if ind == len(cols):\n         ind = 0\n visb_sc3.preview()\n ###############################################################################\n # show the largest submesh with the boundaries of cutted parts\n visb_sc4 = splt.visbrain_plot(mesh=cuted_mesh, caption=\"open mesh\")\n # create points with vispy\n for bound in boundaries:\n     points = cuted_mesh.vertices[bound]\n     s_rad = SourceObj(\n         \"rad\",\n         points,\n         color=\"blue\",\n         symbol=\"square\",\n         radius_min=10)\n     visb_sc4.add_to_subplot(s_rad)\n     lines = Line(pos=cuted_mesh.vertices[bound], width=10, color=\"r\")\n     # wrap the vispy object using visbrain\n     l_obj = VispyObj(\"line\", lines)\n     visb_sc4.add_to_subplot(l_obj)\n visb_sc4.preview()\n ###############################################################################\n # show the closed mesh\n visb_sc5 = splt.visbrain_plot(mesh=mesh_closed, caption=\"closed mesh\")\n visb_sc5.preview()\n\n"
      ]
    }
  ],
  "metadata": {
    "kernelspec": {
      "display_name": "Python 3",
      "language": "python",
      "name": "python3"
    },
    "language_info": {
      "codemirror_mode": {
        "name": "ipython",
        "version": 3
      },
      "file_extension": ".py",
      "mimetype": "text/x-python",
      "name": "python",
      "nbconvert_exporter": "python",
      "pygments_lexer": "ipython3",
      "version": "3.12.10"
    }
  },
  "nbformat": 4,
  "nbformat_minor": 0
}