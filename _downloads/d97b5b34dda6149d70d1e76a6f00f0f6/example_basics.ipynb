{
  "cells": [
    {
      "cell_type": "markdown",
      "metadata": {},
      "source": [
        "\n\n# Show basic use of slam\n"
      ]
    },
    {
      "cell_type": "code",
      "execution_count": null,
      "metadata": {
        "collapsed": false
      },
      "outputs": [],
      "source": [
        "# Authors: Guillaume Auzias <guillaume.auzias@univ-amu.fr>\n\n# License: MIT\n# sphinx_gallery_thumbnail_number = 2"
      ]
    },
    {
      "cell_type": "markdown",
      "metadata": {},
      "source": [
        "This script shows examples of basic functionalities offered by SLAM.\nSome (most) of these are actually inherited from Trimesh\nThis script does not plot anything, see example_plot.py for that purpose\n\n\n"
      ]
    },
    {
      "cell_type": "code",
      "execution_count": null,
      "metadata": {
        "collapsed": false
      },
      "outputs": [],
      "source": [
        "import numpy as np\nimport trimesh\nimport slam.io as sio\n\n# loading a mesh stored on the disc as a gifti file,\n# this is a feature of SLAM\nmesh = sio.load_mesh(\"../examples/data/example_mesh.gii\")"
      ]
    },
    {
      "cell_type": "markdown",
      "metadata": {},
      "source": [
        "affine transformations can be applied to mesh objects\n\n"
      ]
    },
    {
      "cell_type": "code",
      "execution_count": null,
      "metadata": {
        "collapsed": false
      },
      "outputs": [],
      "source": [
        "mesh.apply_transform(mesh.principal_inertia_transform)\n# laplacian smoothing is available in Trimesh\n# mesh_s = sm.filter_laplacian(mesh, iterations=20)"
      ]
    },
    {
      "cell_type": "markdown",
      "metadata": {},
      "source": [
        "mesh.fill_holes() is able to fill missing face but do not handle\nlarger holes, see example_topology for that purpose\n\n"
      ]
    },
    {
      "cell_type": "markdown",
      "metadata": {},
      "source": [
        "interesting properties / functions of a mesh\nsee base.py for more details\nwhat's the euler number for the mesh?\n\n"
      ]
    },
    {
      "cell_type": "code",
      "execution_count": null,
      "metadata": {
        "collapsed": false
      },
      "outputs": [],
      "source": [
        "print(\"mesh.euler_number=\", mesh.euler_number)"
      ]
    },
    {
      "cell_type": "markdown",
      "metadata": {},
      "source": [
        "access mesh edges\n\n"
      ]
    },
    {
      "cell_type": "code",
      "execution_count": null,
      "metadata": {
        "collapsed": false
      },
      "outputs": [],
      "source": [
        "mesh.edges"
      ]
    },
    {
      "cell_type": "markdown",
      "metadata": {},
      "source": [
        "access mesh faces\n\n"
      ]
    },
    {
      "cell_type": "code",
      "execution_count": null,
      "metadata": {
        "collapsed": false
      },
      "outputs": [],
      "source": [
        "mesh.faces"
      ]
    },
    {
      "cell_type": "markdown",
      "metadata": {},
      "source": [
        "access mesh vertices\n\n"
      ]
    },
    {
      "cell_type": "code",
      "execution_count": null,
      "metadata": {
        "collapsed": false
      },
      "outputs": [],
      "source": [
        "mesh.vertices"
      ]
    },
    {
      "cell_type": "markdown",
      "metadata": {},
      "source": [
        "access mesh edges\n\n"
      ]
    },
    {
      "cell_type": "code",
      "execution_count": null,
      "metadata": {
        "collapsed": false
      },
      "outputs": [],
      "source": [
        "mesh.edges"
      ]
    },
    {
      "cell_type": "markdown",
      "metadata": {},
      "source": [
        "what's the area of the mesh\n\n"
      ]
    },
    {
      "cell_type": "code",
      "execution_count": null,
      "metadata": {
        "collapsed": false
      },
      "outputs": [],
      "source": [
        "print(\"mesh.area=\", mesh.area)"
      ]
    },
    {
      "cell_type": "markdown",
      "metadata": {},
      "source": [
        "compute the area of each face\n\n"
      ]
    },
    {
      "cell_type": "code",
      "execution_count": null,
      "metadata": {
        "collapsed": false
      },
      "outputs": [],
      "source": [
        "mesh.area_faces"
      ]
    },
    {
      "cell_type": "markdown",
      "metadata": {},
      "source": [
        "access mesh faces angles\n\n"
      ]
    },
    {
      "cell_type": "code",
      "execution_count": null,
      "metadata": {
        "collapsed": false
      },
      "outputs": [],
      "source": [
        "mesh.face_angles"
      ]
    },
    {
      "cell_type": "markdown",
      "metadata": {},
      "source": [
        "access mesh volume\n\n"
      ]
    },
    {
      "cell_type": "code",
      "execution_count": null,
      "metadata": {
        "collapsed": false
      },
      "outputs": [],
      "source": [
        "mesh.volume"
      ]
    },
    {
      "cell_type": "markdown",
      "metadata": {},
      "source": [
        "get the face_normal of the mesh\n\n"
      ]
    },
    {
      "cell_type": "code",
      "execution_count": null,
      "metadata": {
        "collapsed": false
      },
      "outputs": [],
      "source": [
        "mesh.face_normals"
      ]
    },
    {
      "cell_type": "markdown",
      "metadata": {},
      "source": [
        "get the vertex_normals of the mesh\n\n"
      ]
    },
    {
      "cell_type": "code",
      "execution_count": null,
      "metadata": {
        "collapsed": false
      },
      "outputs": [],
      "source": [
        "mesh.vertex_normals"
      ]
    },
    {
      "cell_type": "markdown",
      "metadata": {},
      "source": [
        "access mesh vertex connectivity\n\n"
      ]
    },
    {
      "cell_type": "code",
      "execution_count": null,
      "metadata": {
        "collapsed": false
      },
      "outputs": [],
      "source": [
        "mesh.vertex_neighbors"
      ]
    },
    {
      "cell_type": "markdown",
      "metadata": {},
      "source": [
        "compute mesh convex hull\n\n"
      ]
    },
    {
      "cell_type": "code",
      "execution_count": null,
      "metadata": {
        "collapsed": false
      },
      "outputs": [],
      "source": [
        "c_h_mesh = mesh.convex_hull"
      ]
    },
    {
      "cell_type": "markdown",
      "metadata": {},
      "source": [
        "kdtree of the vertices\nsee example_kdtree.py\n\n"
      ]
    },
    {
      "cell_type": "markdown",
      "metadata": {},
      "source": [
        "mesh refinement by subdivision of face\n\n"
      ]
    },
    {
      "cell_type": "code",
      "execution_count": null,
      "metadata": {
        "collapsed": false
      },
      "outputs": [],
      "source": [
        "mesh.subdivide()"
      ]
    },
    {
      "cell_type": "markdown",
      "metadata": {},
      "source": [
        "extract 100 mesh vertices picked at random\n\n"
      ]
    },
    {
      "cell_type": "code",
      "execution_count": null,
      "metadata": {
        "collapsed": false
      },
      "outputs": [],
      "source": [
        "mesh.sample(100)"
      ]
    },
    {
      "cell_type": "markdown",
      "metadata": {},
      "source": [
        "voxelize the mesh\n\n"
      ]
    },
    {
      "cell_type": "code",
      "execution_count": null,
      "metadata": {
        "collapsed": false
      },
      "outputs": [],
      "source": [
        "mesh.voxelized(2)"
      ]
    },
    {
      "cell_type": "markdown",
      "metadata": {},
      "source": [
        "boundary of the mesh or list of faces\nthis functionnality requires to install the optional package shapely\nmesh.outline()\n\n"
      ]
    },
    {
      "cell_type": "markdown",
      "metadata": {},
      "source": [
        "the convex hull is another Trimesh object that is available as a property\nlets compare the volume of our mesh with the volume of its convex hull\n\n"
      ]
    },
    {
      "cell_type": "code",
      "execution_count": null,
      "metadata": {
        "collapsed": false
      },
      "outputs": [],
      "source": [
        "np.divide(mesh.volume, mesh.convex_hull.volume)"
      ]
    },
    {
      "cell_type": "markdown",
      "metadata": {},
      "source": [
        "since the mesh is watertight, it means there is a\nvolumetric center of mass which we can set as the origin for our mesh\n\n"
      ]
    },
    {
      "cell_type": "code",
      "execution_count": null,
      "metadata": {
        "collapsed": false
      },
      "outputs": [],
      "source": [
        "mesh.vertices -= mesh.center_mass"
      ]
    },
    {
      "cell_type": "markdown",
      "metadata": {},
      "source": [
        "what's the moment of inertia for the mesh?\n\n"
      ]
    },
    {
      "cell_type": "code",
      "execution_count": null,
      "metadata": {
        "collapsed": false
      },
      "outputs": [],
      "source": [
        "mesh.moment_inertia"
      ]
    },
    {
      "cell_type": "markdown",
      "metadata": {},
      "source": [
        "if there are multiple bodies in the mesh we can split the mesh by\nconnected components of face adjacency\nsince this example mesh is a single watertight body we get a list of one\nmesh\nmesh.split()\n\n"
      ]
    },
    {
      "cell_type": "markdown",
      "metadata": {},
      "source": [
        "find groups of coplanar adjacent faces\n\n"
      ]
    },
    {
      "cell_type": "code",
      "execution_count": null,
      "metadata": {
        "collapsed": false
      },
      "outputs": [],
      "source": [
        "facets = mesh.facets"
      ]
    },
    {
      "cell_type": "markdown",
      "metadata": {},
      "source": [
        "transform method can be passed a (4,4) matrix and will cleanly apply the\ntransform\n\n"
      ]
    },
    {
      "cell_type": "code",
      "execution_count": null,
      "metadata": {
        "collapsed": false
      },
      "outputs": [],
      "source": [
        "mesh.apply_transform(trimesh.transformations.random_rotation_matrix())"
      ]
    },
    {
      "cell_type": "markdown",
      "metadata": {},
      "source": [
        "axis aligned bounding box is available\n\n"
      ]
    },
    {
      "cell_type": "code",
      "execution_count": null,
      "metadata": {
        "collapsed": false
      },
      "outputs": [],
      "source": [
        "mesh.bounding_box.extents"
      ]
    },
    {
      "cell_type": "markdown",
      "metadata": {},
      "source": [
        "a minimum volume oriented bounding box also available\nprimitives are subclasses of Trimesh objects which automatically generate\nfaces and vertices from data stored in the 'primitive' attribute\n\n"
      ]
    },
    {
      "cell_type": "code",
      "execution_count": null,
      "metadata": {
        "collapsed": false
      },
      "outputs": [],
      "source": [
        "mesh.bounding_box_oriented.primitive.extents\nmesh.bounding_box_oriented.primitive.transform"
      ]
    },
    {
      "cell_type": "markdown",
      "metadata": {},
      "source": [
        "bounding spheres and bounding cylinders of meshes are also\navailable, and will be the minimum volume version of each\nexcept in certain degenerate cases, where they will be no worse\nthan a least squares fit version of the primitive.\n\n"
      ]
    },
    {
      "cell_type": "code",
      "execution_count": null,
      "metadata": {
        "collapsed": false
      },
      "outputs": [],
      "source": [
        "print(\n    mesh.bounding_box_oriented.volume,\n    mesh.bounding_cylinder.volume,\n    mesh.bounding_sphere.volume,\n)"
      ]
    }
  ],
  "metadata": {
    "kernelspec": {
      "display_name": "Python 3",
      "language": "python",
      "name": "python3"
    },
    "language_info": {
      "codemirror_mode": {
        "name": "ipython",
        "version": 3
      },
      "file_extension": ".py",
      "mimetype": "text/x-python",
      "name": "python",
      "nbconvert_exporter": "python",
      "pygments_lexer": "ipython3",
      "version": "3.12.9"
    }
  },
  "nbformat": 4,
  "nbformat_minor": 0
}