{
  "cells": [
    {
      "cell_type": "markdown",
      "metadata": {},
      "source": [
        "\n\n# Remeshing example in slam\n"
      ]
    },
    {
      "cell_type": "code",
      "execution_count": null,
      "metadata": {
        "collapsed": false
      },
      "outputs": [],
      "source": [
        "# Authors:\n# Guillaume Auzias <guillaume.auzias@univ-amu.fr>\n# Julien Barr\u00e8s <julien.barres@etu.univ-amu.fr>\n\n# License: MIT\n# sphinx_gallery_thumbnail_number = 2"
      ]
    },
    {
      "cell_type": "markdown",
      "metadata": {},
      "source": [
        "NOTE: there is no visualization tool in slam, but we provide at the\n end of this script exemplare code to do the visualization with\n an external solution\n##############################################################################\n\n"
      ]
    },
    {
      "cell_type": "markdown",
      "metadata": {},
      "source": [
        "Importation of slam modules\n\n"
      ]
    },
    {
      "cell_type": "code",
      "execution_count": null,
      "metadata": {
        "collapsed": false
      },
      "outputs": [],
      "source": [
        "import slam.io as sio\nimport slam.remeshing as srem"
      ]
    },
    {
      "cell_type": "markdown",
      "metadata": {},
      "source": [
        "Source object files\n\n"
      ]
    },
    {
      "cell_type": "code",
      "execution_count": null,
      "metadata": {
        "collapsed": false
      },
      "outputs": [],
      "source": [
        "source_mesh_file = \"../examples/data/example_mesh.gii\"\nsource_texture_file = \"../examples/data/example_texture.gii\"\nsource_spherical_mesh_file = \"../examples/data/example_mesh_spherical.gii\""
      ]
    },
    {
      "cell_type": "markdown",
      "metadata": {},
      "source": [
        "Target object files\n\n"
      ]
    },
    {
      "cell_type": "code",
      "execution_count": null,
      "metadata": {
        "collapsed": false
      },
      "outputs": [],
      "source": [
        "target_mesh_file = \"../examples/data/example_mesh_2.gii\"\ntarget_spherical_mesh_file = \"../examples/data/example_mesh_2_spherical.gii\"\n\nsource_mesh = sio.load_mesh(source_mesh_file)\nsource_tex = sio.load_texture(source_texture_file)\nsource_spherical_mesh = sio.load_mesh(source_spherical_mesh_file)\n\ntarget_mesh = sio.load_mesh(target_mesh_file)\ntarget_spherical_mesh = sio.load_mesh(target_spherical_mesh_file)\n\ninterpolated_tex_values = srem.spherical_interpolation_nearest_neigbhor(\n    source_spherical_mesh, target_spherical_mesh, source_tex.darray[0]\n)"
      ]
    },
    {
      "cell_type": "markdown",
      "metadata": {},
      "source": [
        "## VISUALIZATION USING EXTERNAL TOOLS\n # Visualization with visbrain\n import slam.plot as splt\n ###############################################################################\n visb_sc = splt.visbrain_plot(\n     mesh=source_mesh,\n     tex=source_tex.darray[0],\n     caption=\"source with curvature\",\n     cblabel=\"curvature\",\n )\n visb_sc = splt.visbrain_plot(\n     mesh=source_spherical_mesh,\n     tex=source_tex.darray[0],\n     caption=\"spherical source mesh\",\n     cblabel=\"curvature\",\n     visb_sc=visb_sc,\n )\n visb_sc = splt.visbrain_plot(\n     mesh=target_mesh,\n     tex=interpolated_tex_values,\n     caption=\"target mesh with curvature \" \"from source mesh\",\n     cblabel=\"curvature\",\n     visb_sc=visb_sc,\n )\n visb_sc.preview()\n\n"
      ]
    }
  ],
  "metadata": {
    "kernelspec": {
      "display_name": "Python 3",
      "language": "python",
      "name": "python3"
    },
    "language_info": {
      "codemirror_mode": {
        "name": "ipython",
        "version": 3
      },
      "file_extension": ".py",
      "mimetype": "text/x-python",
      "name": "python",
      "nbconvert_exporter": "python",
      "pygments_lexer": "ipython3",
      "version": "3.12.10"
    }
  },
  "nbformat": 4,
  "nbformat_minor": 0
}