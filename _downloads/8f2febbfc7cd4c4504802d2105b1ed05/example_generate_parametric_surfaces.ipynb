{
  "cells": [
    {
      "cell_type": "markdown",
      "metadata": {},
      "source": [
        "\n\n# Generating parametric surfaces in slam\n"
      ]
    },
    {
      "cell_type": "code",
      "execution_count": null,
      "metadata": {
        "collapsed": false
      },
      "outputs": [],
      "source": [
        "# Authors:\n# Guillaume Auzias <guillaume.auzias@univ-amu.fr>\n# Julien Barr\u00e8s <julien.barres@etu.univ-amu.fr>\n\n# License: MIT\n# sphinx_gallery_thumbnail_number = 2"
      ]
    },
    {
      "cell_type": "markdown",
      "metadata": {},
      "source": [
        "NOTE: there is no visualization tool in slam, but we provide at the\n end of this script exemplare code to do the visualization with\n an external solution\n##############################################################################\n\n"
      ]
    },
    {
      "cell_type": "markdown",
      "metadata": {},
      "source": [
        "Importation of slam modules\n\n"
      ]
    },
    {
      "cell_type": "code",
      "execution_count": null,
      "metadata": {
        "collapsed": false
      },
      "outputs": [],
      "source": [
        "import slam.generate_parametric_surfaces as sgps\nimport numpy as np"
      ]
    },
    {
      "cell_type": "markdown",
      "metadata": {},
      "source": [
        "Generating a quadrix surface\n\n"
      ]
    },
    {
      "cell_type": "code",
      "execution_count": null,
      "metadata": {
        "collapsed": false
      },
      "outputs": [],
      "source": [
        "K = [1, 1]\nquadric = sgps.generate_quadric(\n    K,\n    nstep=[20, 20],\n    ax=3,\n    ay=1,\n    random_sampling=True,\n    ratio=0.3,\n    random_distribution_type=\"gamma\",\n)\nquadric_mean_curv = sgps.quadric_curv_mean(K)(\n    np.array(quadric.vertices[:, 0]), np.array(quadric.vertices[:, 1])\n)"
      ]
    },
    {
      "cell_type": "markdown",
      "metadata": {},
      "source": [
        "Generating an ellipsiods\n\n"
      ]
    },
    {
      "cell_type": "code",
      "execution_count": null,
      "metadata": {
        "collapsed": false
      },
      "outputs": [],
      "source": [
        "nstep = 50\nrandomSampling = True\na = 2\nb = 1\nellips = sgps.generate_ellipsiod(a, b, nstep, randomSampling)"
      ]
    },
    {
      "cell_type": "markdown",
      "metadata": {},
      "source": [
        "Generating a sphere\n\n"
      ]
    },
    {
      "cell_type": "code",
      "execution_count": null,
      "metadata": {
        "collapsed": false
      },
      "outputs": [],
      "source": [
        "sphere_regular = sgps.generate_sphere_icosahedron(subdivisions=3, radius=4)"
      ]
    },
    {
      "cell_type": "markdown",
      "metadata": {},
      "source": [
        "Generating a more randomized sphere (random sampling with the same\nnumber of vertices)\n\n"
      ]
    },
    {
      "cell_type": "code",
      "execution_count": null,
      "metadata": {
        "collapsed": false
      },
      "outputs": [],
      "source": [
        "sphere_random = sgps.generate_sphere_random_sampling(\n    vertex_number=sphere_regular.vertices.shape[0], radius=4\n)"
      ]
    },
    {
      "cell_type": "markdown",
      "metadata": {},
      "source": [
        "Computation of the volume and volume error of the spheres\n\n"
      ]
    },
    {
      "cell_type": "code",
      "execution_count": null,
      "metadata": {
        "collapsed": false
      },
      "outputs": [],
      "source": [
        "analytical_vol = (4 / 3) * np.pi * np.power(4, 3)\nprint(\n    \"volume error for regular sampling: {:.3f}\".format(\n        sphere_regular.volume - analytical_vol\n    )\n)\nprint(\n    \"volume error for random sampling: {:.3f}\".format(\n        sphere_random.volume - analytical_vol\n    )\n)"
      ]
    },
    {
      "cell_type": "markdown",
      "metadata": {},
      "source": [
        "## VISUALIZATION USING EXTERNAL TOOLS\n # import visbrain # visu using visbrain\n # show the quadric with its mean curvature\n visb_sc = splt.visbrain_plot(\n     mesh=quadric,\n     tex=quadric_mean_curv,\n     caption=\"quadric\",\n     cblabel=\"mean curvature\"\n )\n # show the ellipsoid\n visb_sc = splt.visbrain_plot(mesh=ellips, caption=\"ellipsoid\")\n # show the sphere with regular sampling\n visb_sc = splt.visbrain_plot(mesh=sphere_regular, caption=\"sphere_regular\")\n # show the sphere with random sampling\n visb_sc = splt.visbrain_plot(\n     mesh=sphere_random, caption=\"sphere_random\", visb_sc=visb_sc\n )\n visb_sc.preview()\n\n"
      ]
    }
  ],
  "metadata": {
    "kernelspec": {
      "display_name": "Python 3",
      "language": "python",
      "name": "python3"
    },
    "language_info": {
      "codemirror_mode": {
        "name": "ipython",
        "version": 3
      },
      "file_extension": ".py",
      "mimetype": "text/x-python",
      "name": "python",
      "nbconvert_exporter": "python",
      "pygments_lexer": "ipython3",
      "version": "3.12.9"
    }
  },
  "nbformat": 4,
  "nbformat_minor": 0
}