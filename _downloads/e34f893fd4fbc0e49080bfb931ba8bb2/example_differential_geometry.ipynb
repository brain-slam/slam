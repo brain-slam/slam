{
  "cells": [
    {
      "cell_type": "markdown",
      "metadata": {},
      "source": [
        "\n\n# example of differential geometry tools in slam\n"
      ]
    },
    {
      "cell_type": "code",
      "execution_count": null,
      "metadata": {
        "collapsed": false
      },
      "outputs": [],
      "source": [
        "# Authors: Guillaume Auzias <guillaume.auzias@univ-amu.fr>\n\n# License: MIT\n# sphinx_gallery_thumbnail_number = 2"
      ]
    },
    {
      "cell_type": "markdown",
      "metadata": {},
      "source": [
        "NOTE: there is no visualization tool in slam, but we provide at the\n end of this script exemplare code to do the visualization with\n an external solution\n##############################################################################\n\n"
      ]
    },
    {
      "cell_type": "markdown",
      "metadata": {},
      "source": [
        "importation of slam modules\n\n"
      ]
    },
    {
      "cell_type": "code",
      "execution_count": null,
      "metadata": {
        "collapsed": false
      },
      "outputs": [],
      "source": [
        "import slam.io as sio\nimport slam.differential_geometry as sdg"
      ]
    },
    {
      "cell_type": "markdown",
      "metadata": {},
      "source": [
        "loading an examplar mesh and corresponding texture\n\n"
      ]
    },
    {
      "cell_type": "code",
      "execution_count": null,
      "metadata": {
        "collapsed": false
      },
      "outputs": [],
      "source": [
        "mesh_file = \"../examples/data/example_mesh.gii\"\ntexture_file = \"../examples/data/example_texture.gii\"\nmesh = sio.load_mesh(mesh_file)\ntex = sio.load_texture(texture_file)"
      ]
    },
    {
      "cell_type": "markdown",
      "metadata": {},
      "source": [
        "compute various types of Laplacian of the mesh\n\n"
      ]
    },
    {
      "cell_type": "code",
      "execution_count": null,
      "metadata": {
        "collapsed": false
      },
      "outputs": [],
      "source": [
        "lap, lap_b = sdg.compute_mesh_laplacian(mesh, lap_type=\"fem\")\nprint(mesh.vertices.shape)\nprint(lap.shape)\nlap, lap_b = sdg.compute_mesh_laplacian(mesh, lap_type=\"conformal\")\nlap, lap_b = sdg.compute_mesh_laplacian(mesh, lap_type=\"meanvalue\")\nlap, lap_b = sdg.compute_mesh_laplacian(mesh, lap_type=\"authalic\")"
      ]
    },
    {
      "cell_type": "markdown",
      "metadata": {},
      "source": [
        "smooth the mesh using Laplacian\n\n"
      ]
    },
    {
      "cell_type": "code",
      "execution_count": null,
      "metadata": {
        "collapsed": false
      },
      "outputs": [],
      "source": [
        "s_mesh = sdg.laplacian_mesh_smoothing(mesh, nb_iter=100, dt=0.1)"
      ]
    },
    {
      "cell_type": "markdown",
      "metadata": {},
      "source": [
        "compute the gradient of texture tex\n\n"
      ]
    },
    {
      "cell_type": "code",
      "execution_count": null,
      "metadata": {
        "collapsed": false
      },
      "outputs": [],
      "source": [
        "triangle_grad = sdg.triangle_gradient(mesh, tex.darray[0])\nprint(triangle_grad)\ngrad = sdg.gradient(mesh, tex.darray[0])\nprint(grad)\nnorm_grad = sdg.norm_gradient(mesh, tex.darray[0])\nprint(norm_grad)"
      ]
    },
    {
      "cell_type": "markdown",
      "metadata": {},
      "source": [
        "## VISUALIZATION USING EXTERNAL TOOLS\n # import visbrain # visu using visbrain\n visb_sc = splt.visbrain_plot(\n     mesh=mesh,\n     tex=tex.darray[0],\n     caption=\"mesh with curvature\", cblabel=\"curvature\"\n )\n visb_sc.preview()\n ###############################################################################\n # show the smoothed mesh\n visb_sc = splt.visbrain_plot(\n mesh=s_mesh,\n caption=\"smoothed mesh\"\n )\n visb_sc.preview()\n ###############################################################################\n # show the norm of the gradient of the curvature\n visb_sc = splt.visbrain_plot(\n     mesh=mesh,\n     tex=norm_grad,\n     caption=\"norm of the gradient of curvature\",\n     cblabel=\"gradient magnitude\",\n )\n visb_sc.preview()\n ###############################################################################\n # show the depth potential function\n visb_sc = splt.visbrain_plot(\n     mesh=mesh,\n     tex=dpf[0],\n     caption=\"depth potential function\",\n     cblabel=\"dpf\"\n )\n visb_sc.preview()\n\n"
      ]
    }
  ],
  "metadata": {
    "kernelspec": {
      "display_name": "Python 3",
      "language": "python",
      "name": "python3"
    },
    "language_info": {
      "codemirror_mode": {
        "name": "ipython",
        "version": 3
      },
      "file_extension": ".py",
      "mimetype": "text/x-python",
      "name": "python",
      "nbconvert_exporter": "python",
      "pygments_lexer": "ipython3",
      "version": "3.12.11"
    }
  },
  "nbformat": 4,
  "nbformat_minor": 0
}