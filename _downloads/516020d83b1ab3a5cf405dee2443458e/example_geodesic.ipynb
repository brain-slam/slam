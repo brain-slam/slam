{
  "cells": [
    {
      "cell_type": "markdown",
      "metadata": {},
      "source": [
        "\n\n# Geodesic in slam\n"
      ]
    },
    {
      "cell_type": "code",
      "execution_count": null,
      "metadata": {
        "collapsed": false
      },
      "outputs": [],
      "source": [
        "# Authors:\n# Guillaume Auzias <guillaume.auzias@univ-amu.fr>\n# Julien Barr\u00e8s <julien.barres@etu.univ-amu.fr>\n\n# License: MIT\n# sphinx_gallery_thumbnail_number = 2"
      ]
    },
    {
      "cell_type": "markdown",
      "metadata": {},
      "source": [
        "NOTE: there is no visualization tool in slam, but we provide at the\n end of this script exemplare code to do the visualization with\n an external solution\n##############################################################################\n\n"
      ]
    },
    {
      "cell_type": "markdown",
      "metadata": {},
      "source": [
        "Importation of slam modules\n\n"
      ]
    },
    {
      "cell_type": "code",
      "execution_count": null,
      "metadata": {
        "collapsed": false
      },
      "outputs": [],
      "source": [
        "import slam.io as sio\nimport slam.geodesics as sgeo\nimport numpy as np\n# import trimesh"
      ]
    },
    {
      "cell_type": "markdown",
      "metadata": {},
      "source": [
        "Mesh importation\n\n"
      ]
    },
    {
      "cell_type": "code",
      "execution_count": null,
      "metadata": {
        "collapsed": false
      },
      "outputs": [],
      "source": [
        "mesh = sio.load_mesh(\"../examples/data/example_mesh.gii\")"
      ]
    },
    {
      "cell_type": "markdown",
      "metadata": {},
      "source": [
        "Getting the vertex index in specified geo_distance of vert\n\n"
      ]
    },
    {
      "cell_type": "code",
      "execution_count": null,
      "metadata": {
        "collapsed": false
      },
      "outputs": [],
      "source": [
        "vert_id = 200\nmax_geodist = 10\ngeo_distance = sgeo.compute_gdist(mesh, vert_id)\narea_geodist_vi = np.where(geo_distance < max_geodist)[0]\nprint(area_geodist_vi)"
      ]
    },
    {
      "cell_type": "markdown",
      "metadata": {},
      "source": [
        "Getting the vertex index in specified geo_distance of vert\n\n"
      ]
    },
    {
      "cell_type": "code",
      "execution_count": null,
      "metadata": {
        "collapsed": false
      },
      "outputs": [],
      "source": [
        "area_geodist = sgeo.local_gdist_matrix(mesh, max_geodist)"
      ]
    },
    {
      "cell_type": "markdown",
      "metadata": {},
      "source": [
        "Get the vertex index\n\n"
      ]
    },
    {
      "cell_type": "code",
      "execution_count": null,
      "metadata": {
        "collapsed": false
      },
      "outputs": [],
      "source": [
        "indices = []\n\nfor i in range(mesh.vertices.shape[0]):\n    vert_distmap = area_geodist[i].toarray()[0]\n    area_geodist_v = np.where(vert_distmap > 0)[0]\n    indices += [area_geodist_v]"
      ]
    },
    {
      "cell_type": "markdown",
      "metadata": {},
      "source": [
        "Arbitrary indices of mesh.vertices to test with\n\n"
      ]
    },
    {
      "cell_type": "code",
      "execution_count": null,
      "metadata": {
        "collapsed": false
      },
      "outputs": [],
      "source": [
        "start = 0\nend = int(len(mesh.vertices) / 2.0)\npath = sgeo.shortest_path(mesh, start, end)\nprint(path)"
      ]
    },
    {
      "cell_type": "markdown",
      "metadata": {},
      "source": [
        "## VISUALIZATION USING EXTERNAL TOOLS\n # Visualization with visbrain\n # show the geodesic distance\n visb_sc = splt.visbrain_plot(\n     mesh=mesh,\n     tex=geo_distance,\n     caption=\"geodesic distance\",\n     cblabel=\"distance\"\n )\n visb_sc.preview()\n # show the geodesic distance locally\n visb_sc2 = splt.visbrain_plot(\n     mesh=mesh,\n     tex=area_geodist[0].toarray().squeeze(),\n     caption=\"local geodesic distance\",\n     cblabel=\"distance\",\n )\n visb_sc2.preview()\n\n"
      ]
    },
    {
      "cell_type": "markdown",
      "metadata": {},
      "source": [
        "# Visualization using pyglet\n\nmesh.visual.face_colors = [100, 100, 100, 100]\n\n###############################################################################\n# Path3D with the path between the points\n\npath_visual = trimesh.load_path(mesh.vertices[path])\npath_visual\n\n###############################################################################\n# Visualizable two points\npoints_visual = trimesh.points.PointCloud(mesh.vertices[[start, end]])\n\n###############################################################################\n# Create a scene with the mesh, path, and points\n\nscene = trimesh.Scene([\n    points_visual,\n    path_visual,\n    mesh])\n\nscene.show(smooth=False)\n\n"
      ]
    }
  ],
  "metadata": {
    "kernelspec": {
      "display_name": "Python 3",
      "language": "python",
      "name": "python3"
    },
    "language_info": {
      "codemirror_mode": {
        "name": "ipython",
        "version": 3
      },
      "file_extension": ".py",
      "mimetype": "text/x-python",
      "name": "python",
      "nbconvert_exporter": "python",
      "pygments_lexer": "ipython3",
      "version": "3.12.10"
    }
  },
  "nbformat": 4,
  "nbformat_minor": 0
}