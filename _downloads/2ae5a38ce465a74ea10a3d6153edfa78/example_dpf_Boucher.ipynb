{
  "cells": [
    {
      "cell_type": "markdown",
      "metadata": {},
      "source": [
        "\n\n# Example of depth potential function in slam\n"
      ]
    },
    {
      "cell_type": "code",
      "execution_count": null,
      "metadata": {
        "collapsed": false
      },
      "outputs": [],
      "source": [
        "# Authors: Julien Lefevre <julien.lefevre@univ-amu.fr>\n\n# License: MIT\n# sphinx_gallery_thumbnail_number = 2"
      ]
    },
    {
      "cell_type": "markdown",
      "metadata": {},
      "source": [
        "NOTE: there is no visualization tool in slam, but we provide at the\n end of this script exemplare code to do the visualization with\n an external solution\n##############################################################################\n\n"
      ]
    },
    {
      "cell_type": "markdown",
      "metadata": {},
      "source": [
        "Import of modules\n\n"
      ]
    },
    {
      "cell_type": "code",
      "execution_count": null,
      "metadata": {
        "collapsed": false
      },
      "outputs": [],
      "source": [
        "import slam.curvature as sc\nimport slam.sulcal_depth as sdepth\nimport trimesh\nimport numpy as np\nfrom scipy.spatial import Delaunay"
      ]
    },
    {
      "cell_type": "markdown",
      "metadata": {},
      "source": [
        "Define the example provided in Figure 5 of\nDepth potential function for folding pattern representation,\nregistration and analysis\nMaxime Boucher a,b, * , Sue Whitesides a , Alan Evans\n\n"
      ]
    },
    {
      "cell_type": "code",
      "execution_count": null,
      "metadata": {
        "collapsed": false
      },
      "outputs": [],
      "source": [
        "def boucher_surface(params, ax, ay, nstep):\n    # Parameters\n    xmin, xmax = [-ax, ax]\n    ymin, ymax = [-ay, ay]\n    # Define the sampling\n    stepx = (xmax - xmin) / nstep\n    stepy = stepx * np.sqrt(3) / 2  # to ensure equilateral faces\n\n    # Coordinates\n    x = np.arange(xmin, xmax, stepx)\n    y = np.arange(ymin, ymax, stepy)\n    X, Y = np.meshgrid(x, y)\n\n    X[::2] += stepx / 2\n    X = X.flatten()\n    Y = Y.flatten()\n\n    # Delaunay\n    faces_tri = Delaunay(np.vstack((X, Y)).T, qhull_options=\"QJ Qt Qbb\")\n\n    # Equation for Z\n    M = params[0]\n    sigma = params[1]  # called sigma_y in the paper\n    Z = (\n        M\n        / sigma\n        * np.exp(-(X**2) - Y**2 / (2 * sigma**2))\n        * (Y**2 - sigma**2)\n    )\n\n    # Mesh\n    coords = np.array([X, Y, Z]).transpose()\n    mesh = trimesh.Trimesh(\n        faces=faces_tri.simplices,\n        vertices=coords,\n        process=False)\n    return mesh\n\n\nparams = [4, 0.25]\nax = 2\nay = 1\nnstep = 50\nmesh = boucher_surface(params, ax, ay, nstep)"
      ]
    },
    {
      "cell_type": "markdown",
      "metadata": {},
      "source": [
        "Compute dpf for various alpha\n\n"
      ]
    },
    {
      "cell_type": "code",
      "execution_count": null,
      "metadata": {
        "collapsed": false
      },
      "outputs": [],
      "source": [
        "alphas = [0.001, 0.01, 0.1, 1, 10, 100]\ndpfs = sdepth.depth_potential_function(\n    mesh, alphas=alphas)\n\namplitude_center = []\namplitude_peak = []\nindex_peak_pos = np.argmax(mesh.vertices[:, 2])\nindex_peak_neg = np.argmin(mesh.vertices[:, 2])\nfor i in range(len(dpfs)):\n    amplitude_center.append(dpfs[i][index_peak_neg])\n    amplitude_peak.append(dpfs[i][index_peak_pos])"
      ]
    },
    {
      "cell_type": "markdown",
      "metadata": {},
      "source": [
        "Fix alpha and vary M = params[0]\n\n"
      ]
    },
    {
      "cell_type": "code",
      "execution_count": null,
      "metadata": {
        "collapsed": false
      },
      "outputs": [],
      "source": [
        "all_M = [0.5, 0.75, 1, 1.25, 1.5, 1.75, 2]\nall_amplitudes = []\n\nfor M in all_M:\n    mesh = boucher_surface([M, 0.25], ax, ay, nstep)\n    dpfs = sdepth.depth_potential_function(\n        mesh, alphas=[0.0015])\n    all_amplitudes.append(dpfs[0][len(mesh.vertices) // 2])"
      ]
    },
    {
      "cell_type": "markdown",
      "metadata": {},
      "source": [
        "## VISUALIZATION USING EXTERNAL TOOLS\n import visbrain # visu using visbrain\n import slam.plot as splt\n import matplotlib.pyplot as plt\n#########################################################################\n # Visualization of the mesh\n visb_sc = splt.visbrain_plot(\n     mesh=mesh,\n     caption=\"Boucher mesh\",\n     bgcolor=[\n         0.3,\n         0.5,\n         0.7])\n visb_sc\n visb_sc.preview()\n##############################################################################\n plt.figure()\n plt.semilogx(alphas, amplitude_center)\n plt.semilogx(alphas, amplitude_peak)\n plt.semilogx(alphas, len(alphas) *\n              [params[0] * (1 + 2 * np.exp(-3 / 2))], \"--\")\n plt.xlabel(\"alpha\")\n plt.ylabel(\"amplitude\")\n plt.legend([\"DPF at center\", \"DPF (secondary peaks)\", \"True amplitude\"])\n plt.show()\n\n#####################################\n #  Display dpfs on the surfaces\n\n visb_sc = splt.visbrain_plot(\n     mesh=mesh, tex=dpfs[0], caption=\"Boucher mesh\", bgcolor=\"white\"\n )\n visb_sc = splt.visbrain_plot(\n     mesh=mesh, tex=dpfs[5], caption=\"Boucher mesh\", visb_sc=visb_sc\n )\n visb_sc.preview()\n\n#############################################################################\n plt.figure()\n plt.plot(all_M, all_amplitudes, \"+-\")\n plt.xlabel(\"M\")\n plt.ylabel(\"Amplitude of DPF\")\n plt.show()\n\n"
      ]
    }
  ],
  "metadata": {
    "kernelspec": {
      "display_name": "Python 3",
      "language": "python",
      "name": "python3"
    },
    "language_info": {
      "codemirror_mode": {
        "name": "ipython",
        "version": 3
      },
      "file_extension": ".py",
      "mimetype": "text/x-python",
      "name": "python",
      "nbconvert_exporter": "python",
      "pygments_lexer": "ipython3",
      "version": "3.12.9"
    }
  },
  "nbformat": 4,
  "nbformat_minor": 0
}