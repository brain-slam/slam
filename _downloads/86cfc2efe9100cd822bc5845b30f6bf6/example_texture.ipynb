{
  "cells": [
    {
      "cell_type": "markdown",
      "metadata": {},
      "source": [
        "\n\n# Texture example in slam\n"
      ]
    },
    {
      "cell_type": "code",
      "execution_count": null,
      "metadata": {
        "collapsed": false
      },
      "outputs": [],
      "source": [
        "# Authors:\n# Guillaume Auzias <guillaume.auzias@univ-amu.fr>\n# Julien Barr\u00e8s <julien.barres@etu.univ-amu.fr>\n\n# License: MIT\n# sphinx_gallery_thumbnail_number = 2"
      ]
    },
    {
      "cell_type": "markdown",
      "metadata": {},
      "source": [
        "Importation of slam modules\n\n"
      ]
    },
    {
      "cell_type": "code",
      "execution_count": null,
      "metadata": {
        "collapsed": false
      },
      "outputs": [],
      "source": [
        "import numpy as np\nfrom slam import texture\nfrom slam import io as sio"
      ]
    },
    {
      "cell_type": "code",
      "execution_count": null,
      "metadata": {
        "collapsed": false
      },
      "outputs": [],
      "source": [
        "tex = sio.load_texture(\"../examples/data/example_texture.gii\")\nprint(tex)\nprint(tex.metadata)\nprint(tex.shape)\nprint(tex.dtype)\nprint(tex.min())\nprint(tex.max())"
      ]
    },
    {
      "cell_type": "code",
      "execution_count": null,
      "metadata": {
        "collapsed": false
      },
      "outputs": [],
      "source": [
        "darray = np.zeros((2, 3))\ntex2 = texture.TextureND(darray=darray)\nprint(tex2.metadata)\nprint(tex2)\nprint(tex2.shape)\nprint(tex2.dtype)\nprint(tex2.min())\nprint(tex2.max())\nsio.write_texture(tex2, \"test.gii\")"
      ]
    }
  ],
  "metadata": {
    "kernelspec": {
      "display_name": "Python 3",
      "language": "python",
      "name": "python3"
    },
    "language_info": {
      "codemirror_mode": {
        "name": "ipython",
        "version": 3
      },
      "file_extension": ".py",
      "mimetype": "text/x-python",
      "name": "python",
      "nbconvert_exporter": "python",
      "pygments_lexer": "ipython3",
      "version": "3.12.11"
    }
  },
  "nbformat": 4,
  "nbformat_minor": 0
}