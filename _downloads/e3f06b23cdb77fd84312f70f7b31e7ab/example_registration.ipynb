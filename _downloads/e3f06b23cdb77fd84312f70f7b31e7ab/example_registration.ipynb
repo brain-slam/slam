{
  "cells": [
    {
      "cell_type": "markdown",
      "metadata": {},
      "source": [
        "\n\n# Show mesh registration features in slam\n"
      ]
    },
    {
      "cell_type": "code",
      "execution_count": null,
      "metadata": {
        "collapsed": false
      },
      "outputs": [],
      "source": [
        "# Authors: Guillaume Auzias <guillaume.auzias@univ-amu.fr>\n\n# License: MIT\n# sphinx_gallery_thumbnail_number = 2"
      ]
    },
    {
      "cell_type": "markdown",
      "metadata": {},
      "source": [
        "NOTE: there is no visualization tool in slam, but we provide at the\n end of this script exemplare code to do the visualization with\n an external solution\n##############################################################################\n\n"
      ]
    },
    {
      "cell_type": "markdown",
      "metadata": {},
      "source": [
        "importation of slam modules\n\n"
      ]
    },
    {
      "cell_type": "code",
      "execution_count": null,
      "metadata": {
        "collapsed": false
      },
      "outputs": [],
      "source": [
        "import slam.io as sio\nimport trimesh"
      ]
    },
    {
      "cell_type": "markdown",
      "metadata": {},
      "source": [
        "loading an two unregistered meshes\n\n"
      ]
    },
    {
      "cell_type": "code",
      "execution_count": null,
      "metadata": {
        "collapsed": false
      },
      "outputs": [],
      "source": [
        "mesh_1 = sio.load_mesh(\"../examples/data/example_mesh.gii\")\nmesh_2 = sio.load_mesh(\"../examples/data/example_mesh_2.gii\")"
      ]
    },
    {
      "cell_type": "markdown",
      "metadata": {},
      "source": [
        "compute ICP registration\nthis functionnality requires to install the optional package rtree\n\n"
      ]
    },
    {
      "cell_type": "code",
      "execution_count": null,
      "metadata": {
        "collapsed": false
      },
      "outputs": [],
      "source": [
        "transf_mat, cost = trimesh.registration.mesh_other(\n    mesh_1, mesh_2, samples=500, scale=False, icp_first=10, icp_final=100\n)\nprint(transf_mat)\nprint(cost)"
      ]
    },
    {
      "cell_type": "markdown",
      "metadata": {},
      "source": [
        "apply the estimated rigid transformation to the mesh\n\n"
      ]
    },
    {
      "cell_type": "code",
      "execution_count": null,
      "metadata": {
        "collapsed": false
      },
      "outputs": [],
      "source": [
        "mesh_1.apply_transform(transf_mat)"
      ]
    },
    {
      "cell_type": "markdown",
      "metadata": {},
      "source": [
        "## VISUALIZATION USING EXTERNAL TOOLS\n # Visualization with visbrain\n import slam.plot as splt\n import numpy as np\n ###############################################################################\n # plot them to check the misalignment\n joint_mesh = mesh_1 + mesh_2\n joint_tex = np.ones((joint_mesh.vertices.shape[0],))\n joint_tex[: mesh_1.vertices.shape[0]] = 10\n visb_sc = splt.visbrain_plot(\n     mesh=joint_mesh, tex=joint_tex, caption=\"before registration\"\n )\n visb_sc.preview()\n ###############################################################################\n # plot the two meshes to check they are now aligned\n joint_mesh = mesh_1 + mesh_2\n visb_sc = splt.visbrain_plot(\n     mesh=joint_mesh, tex=joint_tex, caption=\"after registration\"\n )\n visb_sc.preview()\n\n"
      ]
    }
  ],
  "metadata": {
    "kernelspec": {
      "display_name": "Python 3",
      "language": "python",
      "name": "python3"
    },
    "language_info": {
      "codemirror_mode": {
        "name": "ipython",
        "version": 3
      },
      "file_extension": ".py",
      "mimetype": "text/x-python",
      "name": "python",
      "nbconvert_exporter": "python",
      "pygments_lexer": "ipython3",
      "version": "3.12.9"
    }
  },
  "nbformat": 4,
  "nbformat_minor": 0
}