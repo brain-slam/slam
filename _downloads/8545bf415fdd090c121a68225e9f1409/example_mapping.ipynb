{
  "cells": [
    {
      "cell_type": "markdown",
      "metadata": {},
      "source": [
        "\n\n# Mapping example in slam\n"
      ]
    },
    {
      "cell_type": "code",
      "execution_count": null,
      "metadata": {
        "collapsed": false
      },
      "outputs": [],
      "source": [
        "# Authors:\n# Guillaume Auzias <guillaume.auzias@univ-amu.fr>\n# Julien Barr\u00e8s <julien.barres@etu.univ-amu.fr>\n\n# License: MIT\n# sphinx_gallery_thumbnail_number = 2"
      ]
    },
    {
      "cell_type": "markdown",
      "metadata": {},
      "source": [
        "NOTE: there is no visualization tool in slam, but we provide at the\n end of this script exemplare code to do the visualization with\n an external solution\n##############################################################################\n\n"
      ]
    },
    {
      "cell_type": "markdown",
      "metadata": {},
      "source": [
        "Importation of slam modules\n\n"
      ]
    },
    {
      "cell_type": "code",
      "execution_count": null,
      "metadata": {
        "collapsed": false
      },
      "outputs": [],
      "source": [
        "import slam.generate_parametric_surfaces as sps\nimport numpy as np\nimport slam.topology as stop\nimport slam.mapping as smap\nimport slam.distortion as sdst"
      ]
    },
    {
      "cell_type": "markdown",
      "metadata": {},
      "source": [
        "Generation of an open mesh\n\n"
      ]
    },
    {
      "cell_type": "code",
      "execution_count": null,
      "metadata": {
        "collapsed": false
      },
      "outputs": [],
      "source": [
        "K = [-1, -1]\nopen_mesh = sps.generate_quadric(K, nstep=[5, 5])\nopen_mesh_boundary = stop.mesh_boundary(open_mesh)"
      ]
    },
    {
      "cell_type": "markdown",
      "metadata": {},
      "source": [
        "Mapping onto a planar disk\n\n"
      ]
    },
    {
      "cell_type": "code",
      "execution_count": null,
      "metadata": {
        "collapsed": false
      },
      "outputs": [],
      "source": [
        "disk_mesh = smap.disk_conformal_mapping(open_mesh)"
      ]
    },
    {
      "cell_type": "markdown",
      "metadata": {},
      "source": [
        "Compute distortion measures between original and planar representations\n\n"
      ]
    },
    {
      "cell_type": "code",
      "execution_count": null,
      "metadata": {
        "collapsed": false
      },
      "outputs": [],
      "source": [
        "angle_diff = sdst.angle_difference(disk_mesh, open_mesh)\narea_diff = sdst.area_difference(disk_mesh, open_mesh)\nedge_diff = sdst.edge_length_difference(disk_mesh, open_mesh)\nprint(np.mean(angle_diff))\nprint(np.mean(area_diff))\nprint(np.mean(edge_diff))"
      ]
    },
    {
      "cell_type": "markdown",
      "metadata": {},
      "source": [
        "## VISUALIZATION USING EXTERNAL TOOLS\n # Visualization with visbrain\n import slam.plot as splt\n from vispy.scene import Line\n from visbrain.objects import VispyObj, SourceObj\n # Visualization of the open mesh\n visb_sc = splt.visbrain_plot(mesh=open_mesh, caption=\"open mesh\")\n for bound in open_mesh_boundary:\n     points = open_mesh.vertices[bound]\n     s_rad = SourceObj(\n         \"rad\",\n         points,\n         color=\"red\",\n         symbol=\"square\",\n         radius_min=10)\n     visb_sc.add_to_subplot(s_rad)\n     lines = Line(pos=open_mesh.vertices[bound], width=10, color=\"b\")\n     # wrap the vispy object using visbrain\n     l_obj = VispyObj(\"line\", lines)\n     visb_sc.add_to_subplot(l_obj)\n visb_sc.preview()\n\n # Visualization of the same mesh mapped onto a disk\n visb_sc2 = splt.visbrain_plot(mesh=disk_mesh, caption=\"disk mesh\")\n for bound in open_mesh_boundary:\n     points = disk_mesh.vertices[bound]\n     s_rad = SourceObj(\n         \"rad\",\n         points,\n         color=\"red\",\n         symbol=\"square\",\n         radius_min=10)\n     visb_sc2.add_to_subplot(s_rad)\n     lines = Line(pos=disk_mesh.vertices[bound], width=10, color=\"b\")\n     # wrap the vispy object using visbrain\n     l_obj = VispyObj(\"line\", lines)\n     visb_sc2.add_to_subplot(l_obj)\n visb_sc2.preview()\n\n"
      ]
    }
  ],
  "metadata": {
    "kernelspec": {
      "display_name": "Python 3",
      "language": "python",
      "name": "python3"
    },
    "language_info": {
      "codemirror_mode": {
        "name": "ipython",
        "version": 3
      },
      "file_extension": ".py",
      "mimetype": "text/x-python",
      "name": "python",
      "nbconvert_exporter": "python",
      "pygments_lexer": "ipython3",
      "version": "3.12.9"
    }
  },
  "nbformat": 4,
  "nbformat_minor": 0
}