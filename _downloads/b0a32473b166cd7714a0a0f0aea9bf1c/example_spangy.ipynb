{
  "cells": [
    {
      "cell_type": "markdown",
      "metadata": {},
      "source": [
        "\n\n# example of SPANGY (spectral decomposition) tools in slam\n"
      ]
    },
    {
      "cell_type": "code",
      "execution_count": null,
      "metadata": {
        "collapsed": false
      },
      "outputs": [],
      "source": [
        "# Authors:\n\n# License: MIT\n# sphinx_gallery_thumbnail_number = 2"
      ]
    },
    {
      "cell_type": "markdown",
      "metadata": {},
      "source": [
        "NOTE: there is no visualization tool in slam, but we provide at the\n end of this script exemplare code to do the visualization with\n an external solution\n##############################################################################\n\n"
      ]
    },
    {
      "cell_type": "markdown",
      "metadata": {},
      "source": [
        "importation of slam modules\n\n"
      ]
    },
    {
      "cell_type": "code",
      "execution_count": null,
      "metadata": {
        "collapsed": false
      },
      "outputs": [],
      "source": [
        "import numpy as np\nimport slam.io as sio\nimport slam.curvature as scurv\nimport slam.spangy as spgy"
      ]
    },
    {
      "cell_type": "markdown",
      "metadata": {},
      "source": [
        "LOAD MESH\n\n"
      ]
    },
    {
      "cell_type": "code",
      "execution_count": null,
      "metadata": {
        "collapsed": false
      },
      "outputs": [],
      "source": [
        "mesh = sio.load_mesh(\n    '../examples/data/example_mesh.gii')\nvertices = mesh.vertices\nnum_vertices = len(vertices)\nprint('{} vertices'.format(num_vertices))\n\nN = 1500  # N should be < to the number of vertices."
      ]
    },
    {
      "cell_type": "markdown",
      "metadata": {},
      "source": [
        "Compute eigenpairs and mass matrix\n\n"
      ]
    },
    {
      "cell_type": "code",
      "execution_count": null,
      "metadata": {
        "collapsed": false
      },
      "outputs": [],
      "source": [
        "eigVal, eigVects, lap_b = spgy.eigenpairs(mesh, N)"
      ]
    },
    {
      "cell_type": "markdown",
      "metadata": {},
      "source": [
        "CURVATURE\n\n"
      ]
    },
    {
      "cell_type": "code",
      "execution_count": null,
      "metadata": {
        "collapsed": false
      },
      "outputs": [],
      "source": [
        "PrincipalCurvatures, PrincipalDir1, PrincipalDir2 = \\\n    scurv.curvatures_and_derivatives(mesh)\nmean_curv = 0.5 * (PrincipalCurvatures[0, :] + PrincipalCurvatures[1, :])"
      ]
    },
    {
      "cell_type": "markdown",
      "metadata": {},
      "source": [
        "WHOLE BRAIN MEAN-CURVATURE SPECTRUM\n\n"
      ]
    },
    {
      "cell_type": "code",
      "execution_count": null,
      "metadata": {
        "collapsed": false
      },
      "outputs": [],
      "source": [
        "grouped_spectrum, group_indices, coefficients, nlevels \\\n    = spgy.spectrum(mean_curv, lap_b, eigVects, eigVal)\nlevels = len(group_indices)\n\n# a. Whole brain parameters\nmL_in_MM3 = 1000\nCM2_in_MM2 = 100\nvolume = mesh.volume\nsurface_area = mesh.area\nafp = np.sum(grouped_spectrum[1:])\nprint('** a. Whole brain parameters **')\nprint('Volume = %d mL, Area = %d cm\u00b2, Analyze Folding Power = %f,' %\n      (np.floor(volume / mL_in_MM3), np.floor(surface_area / CM2_in_MM2), afp))\n\n# b. Band number of parcels\nprint('** b. Band number of parcels **')\nprint('B4 = %f, B5 = %f, B6 = %f' % (0, 0, 0))\n\n# c. Band power\nprint('** c. Band power **')\nprint('B4 = %f, B5 = %f, B6 = %f' %\n      (grouped_spectrum[4], grouped_spectrum[5],\n       grouped_spectrum[6]))\n\n# d. Band relative power\nprint('** d. Band relative power **')\nprint('B4 = %0.5f, B5 = %0.5f , B6 = %0.5f' %\n      (grouped_spectrum[4] / afp, grouped_spectrum[5] / afp,\n       grouped_spectrum[6] / afp))"
      ]
    },
    {
      "cell_type": "markdown",
      "metadata": {},
      "source": [
        "LOCAL SPECTRAL BANDS\n\n"
      ]
    },
    {
      "cell_type": "code",
      "execution_count": null,
      "metadata": {
        "collapsed": false
      },
      "outputs": [],
      "source": [
        "loc_dom_band, frecomposed = spgy.local_dominance_map(coefficients, mean_curv,\n                                                     levels, group_indices,\n                                                     eigVects)\n\n\n# WHOLE BRAIN MEAN-CURVATURE<=0 & MEAN-CURVATURE>0 SPECTRI\n# --------------------------------------------------------\n# Define negative mean curvature subsignal\nmean_curv_sulci = np.zeros((mean_curv.shape))\nmean_curv_sulci[mean_curv <= 0] = mean_curv[mean_curv <= 0]\ngrouped_spectrum_sulci, group_indices_sulci, coefficients_sulci, _ \\\n    = spgy.spectrum(mean_curv_sulci, lap_b, eigVects, eigVal)\n\n# Define positive mean curvature subsignal\nmean_curv_gyri = np.zeros((mean_curv.shape))\nmean_curv_gyri[mean_curv > 0] = mean_curv[mean_curv > 0]\ngrouped_spectrum_gyri, group_indices_gyri, coefficients_gyri, _ \\\n    = spgy.spectrum(mean_curv_gyri, lap_b, eigVects, eigVal)"
      ]
    },
    {
      "cell_type": "markdown",
      "metadata": {},
      "source": [
        "## VISUALIZATION USING EXTERNAL TOOLS\n import slam.plot as splt\n import matplotlib.pyplot as plt\n from matplotlib.colors import ListedColormap\n import pyvista as pv\n\n ###############################################################################\n # Plot of mean curvature on the mesh\n visb_sc = splt.visbrain_plot(\n     mesh=mesh,\n     tex=mean_curv,\n     caption='Mean Curvature',\n     cmap='jet')\n visb_sc.preview()\n\n # Plot coefficients and bands for all mean curvature signal\n fig, (ax1, ax2) = plt.subplots(1, 2)\n ax1.scatter(np.sqrt(eigVal/2*np.pi),\n coefficients, marker='+', s=10, linewidths=0.5)\n #ax1.plot(np.sqrt(eigVal[1:]) / (2 * np.pi),\n # coefficients[1:]) # remove B0 coefficients\n #ax1.scatter(np.sqrt(eigVal[1:]/2*np.pi),\n # coefficients[1:], marker='+', s=10, linewidths=0.5) # remove B0 coefficients\n ax1.set_xlabel('Frequency (m\u207b\u00b9)')\n ax1.set_ylabel('Coefficients')\n\n # print(grouped_spectrum)\n ax2.bar(np.arange(0, levels), grouped_spectrum)\n #ax2.bar(np.arange(1, nlevels), grouped_spectrum[1:]) # remove B0\n ax2.set_xlabel('Spangy Frequency Bands')\n ax2.set_ylabel('Power Spectrum')\n plt.show()\n\n # Plot of spectral dominant bands on the mesh\n visb_sc = splt.visbrain_plot(mesh=mesh, tex=loc_dom_band,\n                              caption='Local Dominant Band', cmap='jet')\n visb_sc.preview()\n\n # Plot mean curvature coefficients & compacted power spectrum characterizing\n # either Sulci either Gyri folding pattern\n # ---------------------------------------------------------------------------\n coefficients_colors_sulci \\\n     = plot_global_coefficients_and_bands_sulci_or_gyri(\n     group_indices_sulci,\n     coefficients_sulci,\n     colormap_sulci\n )\n coefficients_colors_gyri \\\n     = plot_global_coefficients_and_bands_sulci_or_gyri(\n     group_indices_gyri,\n     coefficients_gyri,\n     colormap_gyri\n )\n\n fig, axs = plt.subplots(2, 2)\n\n # GLOBAL FOLDING PATTERN OF SULCI\n #axs[0,0].plot(np.sqrt(eigVal/2*np.pi),\n # coefficients_sulci, color=coefficients_colors_sulci)\n axs[0,0].scatter(np.sqrt(eigVal/2*np.pi),\n                  coefficients_sulci, marker='+',\n                  s=10, linewidths=0.5, color=coefficients_colors_sulci)\n #axs[0,0].scatter(np.sqrt(eigVal[1:]/2*np.pi),\n # coefficients_sulci[1:], marker='+', s=10, linewidths=0.5,\n # color=coefficients_colors_sulci[1:]) # remove B0 coefficient\n axs[0,0].set_xlabel('Frequency (m\u207b\u00b9)')\n axs[0,0].set_ylabel('Coefficients mean_curv<=0')\n\n axs[0,1].bar(np.arange(0, nlevels),\n grouped_spectrum_sulci.squeeze(), color=colormap_sulci)\n #axs[0,1].bar(np.arange(1, nlevels),\n # grouped_spectrum_sulci[1:].squeeze(),\n # color=colormap_sulci[1:]) # remove B0\n axs[0,1].set_xlabel('Spangy frequency bands')\n axs[0,1].set_ylabel('Power spectrum mean_curv<=0')\n\n # GLOBAL FOLDING PATTERN OF GYRI\n #axs[1,0].plot(np.sqrt(eigVal/2*np.pi),\n # coefficients_gyri, color=coefficients_colors_gyri)\n axs[1,0].scatter(np.sqrt(eigVal/2*np.pi),\n                  coefficients_gyri, marker='+',\n                  s=10, linewidths=0.5, color=coefficients_colors_gyri)\n #axs[1,0].scatter(np.sqrt(eigVal[1:]/2*np.pi),\n # coefficients_gyri[1:], marker='+', s=10, linewidths=0.5,\n # color=coefficients_colors_gyri[1:]) # remove B0 coefficient\n axs[1,0].set_xlabel('Frequency (m\u207b\u00b9)')\n axs[1,0].set_ylabel('Coefficients mean_curv>0')\n\n axs[1,1].bar(np.arange(0, nlevels),\n              grouped_spectrum_gyri.squeeze(), color=colormap_gyri)\n #axs[1,1].bar(np.arange(1, nlevels),\n # grouped_spectrum_gyri[1:].squeeze(), color=colormap_gyri[1:]) # remove B0\n axs[1,1].set_xlabel('Spangy frequency bands')\n axs[1,1].set_ylabel('Power spectrum mean_curv>0')\n\n plt.show()\n\n # LOCAL SPECTRAL BANDS\n # --------------------\n # Plot of spectral dominant bands on the mesh, with automatized colormap\n number_of_displayed_bands = len(np.unique(loc_dom_band))\n\n band_values = np.linspace(np.min(loc_dom_band),\n                           np.max(loc_dom_band),\n                           number_of_displayed_bands+1)\n # 13 = 6 positive bands * 2 + Band 0 --> to generalize\n band_colors = np.empty((number_of_displayed_bands+1, 4))\n limit = np.max(loc_dom_band) - number_of_high_folding_pattern_bands + 1\n # limit band number under which band is displayed in black\n\n band_colors[band_values < limit] = colors[0, :] # low frequency bands\n\n # associate one color per high frequency sulcus band\n for i in range(number_of_high_folding_pattern_bands):\n     band_colors[band_values == -(limit+i)] = colors[i+1, :]\n\n # associate one color per high frequency gyrus band\n for i in range(number_of_high_folding_pattern_bands):\n     band_colors[band_values ==\n     (limit+i)] = colors[i+1+number_of_high_folding_pattern_bands, :]\n\n localbands_colormap = ListedColormap(band_colors)\n #loc_dom_band = loc_dom_band.astype(int)\n\n p = pv.Plotter()\n p.add_mesh(mesh, scalars=loc_dom_band,\n            show_edges=False, cmap=localbands_colormap, show_scalar_bar=False)\n p.add_text(\"Local Dominant Bands\", font_size=14)\n p.add_scalar_bar('Band n\u00b0', fmt=\"%.0f\")\n p.show()\n\n #################################################\n # DETAILED AND GENERALIZED DISPLAY OPTIONS #\n #################################################\n\n # AUTOMATIZED COLORMAP DEPENDING ON NUMBER OF BANDS\n # -------------------------------------------------\n # Define automatically the sulci/gyri folding pattern colormap,\n # in correlation with nlevels --> colors, colormap_sulci, colormap_gyri\n number_of_high_folding_pattern_bands = int(nlevels/2)\n\n colors = np.zeros((2*number_of_high_folding_pattern_bands+1, 4))\n # 4 colors for 7 bands (black + B4 + B5 + B6)\n color_variations_coef = np.linspace(0, 1, number_of_high_folding_pattern_bands)\n\n # low frequency bands\n colors[0, :] = np.array([0, 0, 0, 1])\n # to display in grey: np.array([0.75, 0.75, 0.75, 1])\n\n # colors of high-folding-pattern sulci bands\n for i in range(number_of_high_folding_pattern_bands):\n     colors[i+1, :] = np.array([0, color_variations_coef[i], 1, 1])\n\n # colors of high-folding-pattern gyri bands\n for i in range(number_of_high_folding_pattern_bands):\n     colors[i+1+number_of_high_folding_pattern_bands, :] \\\n         = np.array([1, color_variations_coef[i], 0, 1])\n\n # allocate dedicated color to each bar of the global power spectrum:\n # Colormap for Sulci folding patterns\n colormap_sulci = [] # len = 7\n for i in np.arange(0, nlevels-number_of_high_folding_pattern_bands):\n     colormap_sulci.append(colors[0, :]) # B0, B-1, B-2, B-3\n for i in np.arange(0, number_of_high_folding_pattern_bands):\n     colormap_sulci.append(colors[i+1, :]) # B-4, B-5, B-6\n\n # Colormap for Gyri folding patterns\n colormap_gyri = [] # len = 7\n for i in np.arange(0, nlevels-number_of_high_folding_pattern_bands):\n     colormap_gyri.append(colors[0, :]) # B0, B1, B2, B3\n for i in np.arange(0, number_of_high_folding_pattern_bands):\n     colormap_gyri.append(\n     colors[i+1+number_of_high_folding_pattern_bands, :]) # B4, B5, B6\n\n # GLOBAL COEFFICIENTS AND BANDS\n # -----------------------------\n def plot_global_coefficients_and_bands_sulci_or_gyri(\n group_indices, coefficients, colormap):\n     coefficients_colors = [] # len = N (e.g. 1500 eigenpairs)\n\n     # coefficient corresponding to band B0\n     coefficients_colors.append(colormap[0])\n\n     # coefficients corresponding to other bands i.e. B1..B6 & B-1..B-6\n     band_last_eigenvalue = []\n     for i in range(len(group_indices)):\n         band_last_eigenvalue.append(group_indices[i][1])\n         # i, first eigen value of the band Bi\n\n     for i in np.arange(1, len(coefficients)): # len(coefficients) = N\n         j = 0\n         while i > band_last_eigenvalue[j]:\n             j = j+1\n             if i < band_last_eigenvalue[j]:\n                 break\n\n         coefficients_colors.append(colormap[j])\n\n     return coefficients_colors\n\n"
      ]
    }
  ],
  "metadata": {
    "kernelspec": {
      "display_name": "Python 3",
      "language": "python",
      "name": "python3"
    },
    "language_info": {
      "codemirror_mode": {
        "name": "ipython",
        "version": 3
      },
      "file_extension": ".py",
      "mimetype": "text/x-python",
      "name": "python",
      "nbconvert_exporter": "python",
      "pygments_lexer": "ipython3",
      "version": "3.12.9"
    }
  },
  "nbformat": 4,
  "nbformat_minor": 0
}