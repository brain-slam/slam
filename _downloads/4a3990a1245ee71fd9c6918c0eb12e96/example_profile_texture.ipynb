{
  "cells": [
    {
      "cell_type": "markdown",
      "metadata": {},
      "source": [
        "\n\n# example of profile texture in slam\n"
      ]
    },
    {
      "cell_type": "code",
      "execution_count": null,
      "metadata": {
        "collapsed": false
      },
      "outputs": [],
      "source": [
        "# Authors: Tianqi SONG <tianqisong0117@gmail.com>\n\n# License: MIT\n# sphinx_gallery_thumbnail_number = 2"
      ]
    },
    {
      "cell_type": "markdown",
      "metadata": {},
      "source": [
        "## VISUALIZATION USING EXTERNAL TOOLS\n # Visualization with visbrain\n\n"
      ]
    },
    {
      "cell_type": "markdown",
      "metadata": {},
      "source": [
        "importation of slam modules\n\n"
      ]
    },
    {
      "cell_type": "code",
      "execution_count": null,
      "metadata": {
        "collapsed": false
      },
      "outputs": [],
      "source": [
        "import numpy as np\nimport slam.surface_profiling as surfpf\nimport slam.io as sio"
      ]
    },
    {
      "cell_type": "markdown",
      "metadata": {},
      "source": [
        "loading an example mesh and its texture\n\n"
      ]
    },
    {
      "cell_type": "code",
      "execution_count": null,
      "metadata": {
        "collapsed": false
      },
      "outputs": [],
      "source": [
        "mesh_file = \"../examples/data/example_mesh.gii\"\ntexture_file = \"../examples/data/example_texture.gii\"\nmesh = sio.load_mesh(mesh_file)\ntexture = sio.load_texture(texture_file)"
      ]
    },
    {
      "cell_type": "markdown",
      "metadata": {},
      "source": [
        "Select a vertex and get the coordinate and normal.\n\n"
      ]
    },
    {
      "cell_type": "code",
      "execution_count": null,
      "metadata": {
        "collapsed": false
      },
      "outputs": [],
      "source": [
        "vert_index = 1500\nvert0 = mesh.vertices[vert_index]\nnorm0 = mesh.vertex_normals[vert_index]"
      ]
    },
    {
      "cell_type": "markdown",
      "metadata": {},
      "source": [
        "Set the parameters for surface profiling\ninitial direction of rotation, rotation angle, length and number of\nsampling steps\n\n"
      ]
    },
    {
      "cell_type": "code",
      "execution_count": null,
      "metadata": {
        "collapsed": false
      },
      "outputs": [],
      "source": [
        "init_rot_dir = np.array([1, 1, 1]) - vert0\nrot_angle = 10\nr_step = 0.1\nmax_samples = 45"
      ]
    },
    {
      "cell_type": "markdown",
      "metadata": {},
      "source": [
        "Surface profiling, here we do the second round profiling\n\n"
      ]
    },
    {
      "cell_type": "code",
      "execution_count": null,
      "metadata": {
        "collapsed": false
      },
      "outputs": [],
      "source": [
        "num_face = len(mesh.faces)\nmesh_faces_id = np.linspace(0, num_face, num_face + 1).astype(int)\nprofile_samples, profile_co_faces = surfpf.second_round_profiling_vert(\n    vert0,\n    norm0,\n    init_rot_dir,\n    rot_angle,\n    r_step,\n    max_samples,\n    mesh,\n    mesh_faces_id\n)\n\nprofile_points = profile_samples[:, :, 2]"
      ]
    },
    {
      "cell_type": "markdown",
      "metadata": {},
      "source": [
        "Compute texture values of profile points\n\n"
      ]
    },
    {
      "cell_type": "code",
      "execution_count": null,
      "metadata": {
        "collapsed": false
      },
      "outputs": [],
      "source": [
        "profile_samples = np.array([profile_samples])\nprofile_samples_fid = np.array([profile_co_faces])\nprofile_texture = surfpf.get_texture_value_on_profile(\n    texture, mesh, profile_samples, profile_samples_fid\n)"
      ]
    },
    {
      "cell_type": "markdown",
      "metadata": {},
      "source": [
        "## VISUALIZATION USING EXTERNAL TOOLS\n # Visualization with visbrain\n import trimesh.visual.color\n from matplotlib import pyplot as plt\n ###############################################################################\n # Generate colors of profile points\n # set color maps\n color_map = plt.get_cmap(\"jet\", 12)\n # get texture value of profile points and mesh\n profile_tex = profile_texture.reshape(profile_texture.size)\n texture_value = texture.darray[0]\n # put them together to generate the colors\n prof_mesh_tex_color = np.hstack([profile_tex, texture_value])\n prof_mesh_points_color = trimesh.visual.color.interpolate(\n     prof_mesh_tex_color, color_map=color_map\n )\n mesh.visual.vertex_colors = prof_mesh_points_color[profile_texture.size:]\n\n # Create point cloud of profiling points\n prof_points_mesh = profile_points.reshape(\n     profile_points.shape[0] * profile_points.shape[1], 3\n )\n prof_points_colors = prof_mesh_points_color[: profile_texture.size]\n points_mesh = trimesh.points.PointCloud(\n     prof_points_mesh, colors=np.array(prof_points_colors, dtype=np.uint8)\n )\n\n scene = trimesh.Scene([points_mesh, mesh])\n scene.show(smooth=False)\n\n"
      ]
    }
  ],
  "metadata": {
    "kernelspec": {
      "display_name": "Python 3",
      "language": "python",
      "name": "python3"
    },
    "language_info": {
      "codemirror_mode": {
        "name": "ipython",
        "version": 3
      },
      "file_extension": ".py",
      "mimetype": "text/x-python",
      "name": "python",
      "nbconvert_exporter": "python",
      "pygments_lexer": "ipython3",
      "version": "3.12.9"
    }
  },
  "nbformat": 4,
  "nbformat_minor": 0
}